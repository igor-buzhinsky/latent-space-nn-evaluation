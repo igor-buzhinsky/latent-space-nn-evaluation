{
 "cells": [
  {
   "cell_type": "code",
   "execution_count": null,
   "metadata": {},
   "outputs": [],
   "source": [
    "import matplotlib.pyplot as plt\n",
    "%matplotlib inline\n",
    "from importlib import reload\n",
    "\n",
    "# reload from external changes\n",
    "\n",
    "import datasets\n",
    "datasets = reload(datasets)\n",
    "from datasets import *\n",
    "\n",
    "import ml_util\n",
    "ml_util = reload(ml_util)\n",
    "from ml_util import *\n",
    "\n",
    "import cnn\n",
    "cnn = reload(cnn)\n",
    "from cnn import *\n",
    "\n",
    "import adversarial_generation\n",
    "adversarial_generation = reload(adversarial_generation)\n",
    "from adversarial_generation import *\n",
    "\n",
    "import evaluation_util\n",
    "evaluation_util = reload(evaluation_util)\n",
    "from evaluation_util import EvaluationUtil\n",
    "\n",
    "Util.configure(5000)"
   ]
  },
  {
   "cell_type": "code",
   "execution_count": 2,
   "metadata": {},
   "outputs": [],
   "source": [
    "#dataset_info = DatasetInfo.CelebA128Gender\n",
    "dataset_info = DatasetInfo.LSUN128\n",
    "\n",
    "if dataset_info == DatasetInfo.CelebA128Gender:\n",
    "    trainer_name = \"celeba-128\"\n",
    "    ds = CelebAData(20)\n",
    "elif dataset_info == DatasetInfo.LSUN128:\n",
    "    trainer_name = \"lsun-128\"\n",
    "    ds = LSUNData()\n",
    "else:\n",
    "    raise RuntimeError()\n",
    "class_weights = [0.5] * 2"
   ]
  },
  {
   "cell_type": "code",
   "execution_count": null,
   "metadata": {},
   "outputs": [],
   "source": [
    "# get some random training images\n",
    "images, labels = next(iter(ds.get_train_loader(batch_size=8)))\n",
    "Util.imshow_tensors(images, captions=ds.prediction_indices_to_printed_classes(labels), nrow=8)"
   ]
  },
  {
   "cell_type": "code",
   "execution_count": null,
   "metadata": {},
   "outputs": [],
   "source": [
    "filenames = \"oneepoch plain conventional robust both\".split(\" \")\n",
    "def load_classifier(weights_filename: str):\n",
    "    c = Trainer(trainer_name, ds.get_train_loader, ds.get_test_loader)\n",
    "    c.restore_params_from_disk(weights_filename)\n",
    "    return c\n",
    "classifiers = [load_classifier(f\"new_classifiers/{filename}_{dataset_info.name}.bin\") for filename in filenames]"
   ]
  },
  {
   "cell_type": "markdown",
   "metadata": {},
   "source": [
    "### A few predictions"
   ]
  },
  {
   "cell_type": "code",
   "execution_count": null,
   "metadata": {},
   "outputs": [],
   "source": [
    "EvaluationUtil.show_some_predictions(classifiers, ds)"
   ]
  },
  {
   "cell_type": "markdown",
   "metadata": {},
   "source": [
    "### Evaluation: accuracy on the validation set"
   ]
  },
  {
   "cell_type": "code",
   "execution_count": null,
   "metadata": {},
   "outputs": [],
   "source": [
    "EvaluationUtil.evaluate_accuracy(classifiers, ds, 40)"
   ]
  },
  {
   "cell_type": "markdown",
   "metadata": {},
   "source": [
    "### Evaluation: conventional robustness on the validation set"
   ]
  },
  {
   "cell_type": "code",
   "execution_count": null,
   "metadata": {},
   "outputs": [],
   "source": [
    "EvaluationUtil.evaluate_conventional_robustness(classifiers, ds, 4,\n",
    "                                                l_2_bounds=[0.0025, 0.005], l_inf_bounds=[0.005, 0.01])"
   ]
  },
  {
   "cell_type": "code",
   "execution_count": null,
   "metadata": {},
   "outputs": [],
   "source": [
    "EvaluationUtil.evaluate_conventional_adversarial_severity(classifiers, ds, 4, OTHER_L2_UPPER_BOUND, OTHER_LINF_UPPER_BOUND)"
   ]
  },
  {
   "cell_type": "markdown",
   "metadata": {},
   "source": [
    "### Evaluation: optimize class activations"
   ]
  },
  {
   "cell_type": "code",
   "execution_count": null,
   "metadata": {},
   "outputs": [],
   "source": [
    "if dataset_info == DatasetInfo.CelebA128Gender:\n",
    "    EvaluationUtil.generate_images_with_classifier(classifiers, ds, 2, 0.05, \"l_inf\", 0.3)\n",
    "elif dataset_info == DatasetInfo.LSUN128:\n",
    "    EvaluationUtil.generate_images_with_classifier(classifiers, ds, 2, 0.1, \"scaled_l_2\", 0.6)"
   ]
  },
  {
   "cell_type": "code",
   "execution_count": null,
   "metadata": {},
   "outputs": [],
   "source": []
  }
 ],
 "metadata": {
  "kernelspec": {
   "display_name": "Adversarial",
   "language": "python",
   "name": "adversarial"
  },
  "language_info": {
   "codemirror_mode": {
    "name": "ipython",
    "version": 3
   },
   "file_extension": ".py",
   "mimetype": "text/x-python",
   "name": "python",
   "nbconvert_exporter": "python",
   "pygments_lexer": "ipython3",
   "version": "3.6.8"
  }
 },
 "nbformat": 4,
 "nbformat_minor": 4
}
