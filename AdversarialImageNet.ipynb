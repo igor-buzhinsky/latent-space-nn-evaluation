{
 "cells": [
  {
   "cell_type": "markdown",
   "metadata": {},
   "source": [
    "### This notebook shows the core of the proposed framework: evaluation of ANN classifiers with latent space performance metrics"
   ]
  },
  {
   "cell_type": "code",
   "execution_count": 1,
   "metadata": {},
   "outputs": [],
   "source": [
    "import numpy as np\n",
    "import torch\n",
    "import torchvision.models as models\n",
    "%matplotlib inline\n",
    "%load_ext autoreload\n",
    "%autoreload 2"
   ]
  },
  {
   "cell_type": "code",
   "execution_count": 2,
   "metadata": {},
   "outputs": [],
   "source": [
    "from latentspace.ml_util import *\n",
    "import latentspace.datasets as datasets\n",
    "import latentspace.generative as generative\n",
    "import latentspace.cnn as cnn\n",
    "from latentspace.adversarial_generation import *\n",
    "from latentspace.evaluation_util import EvaluationUtil"
   ]
  },
  {
   "cell_type": "code",
   "execution_count": null,
   "metadata": {},
   "outputs": [],
   "source": [
    "# load ImageNet validation data\n",
    "ds = datasets.ImageNetData()\n",
    "loader = ds.get_test_loader(8)\n",
    "images, labels = next(iter(loader))\n",
    "Util.imshow_tensors(images, captions=ds.prediction_indices_to_printed_classes(labels), nrow=8)"
   ]
  },
  {
   "cell_type": "markdown",
   "metadata": {},
   "source": [
    "### Load classifiers"
   ]
  },
  {
   "cell_type": "code",
   "execution_count": 4,
   "metadata": {},
   "outputs": [
    {
     "name": "stdout",
     "output_type": "stream",
     "text": [
      "=> loading checkpoint './imagenet-models/ImageNet.pt'\n",
      "=> loaded checkpoint './imagenet-models/ImageNet.pt' (epoch 105)\n"
     ]
    }
   ],
   "source": [
    "from robustness import model_utils, datasets as robustness_datasets\n",
    "dataset = robustness_datasets.ImageNet('./data/ImageNet')\n",
    "model_kwargs = {'arch': 'resnet50', 'dataset': dataset, 'resume_path': f'./imagenet-models/ImageNet.pt'}\n",
    "model, _ = model_utils.make_and_restore_model(**model_kwargs)\n",
    "model = model.to(\"cuda:0\" if Util.using_cuda else \"cpu\")\n",
    "model.eval();"
   ]
  },
  {
   "cell_type": "code",
   "execution_count": 5,
   "metadata": {},
   "outputs": [
    {
     "name": "stdout",
     "output_type": "stream",
     "text": [
      "*** Loading BigGAN...\n"
     ]
    }
   ],
   "source": [
    "dataset_info = DatasetInfo.ImageNet\n",
    "label_indices = np.arange(1000)\n",
    "no_classes = len(label_indices)\n",
    "classifier_d = \"mnist\" # any value that can be accepted by a classifier\n",
    "gm = generative.BigGAN(ds, 0.25) # set built-in decay factor\n",
    "class_proportions = np.repeat(1 / no_classes, no_classes)"
   ]
  },
  {
   "cell_type": "code",
   "execution_count": 6,
   "metadata": {},
   "outputs": [
    {
     "name": "stdout",
     "output_type": "stream",
     "text": [
      "mnist classifier: 23394 trainable parameters\n"
     ]
    }
   ],
   "source": [
    "class RobustnessClassifierWrapper(Trainer):\n",
    "    def __init__(self, model):\n",
    "        super().__init__(classifier_d, ds.get_train_loader, ds.get_test_loader, unit_type=0)\n",
    "        self.model = torch.nn.Sequential(\n",
    "            Resize(224),\n",
    "            Lambda(lambda x: (x + 1) / 2),\n",
    "            model,\n",
    "            Lambda(lambda x: x[0]),\n",
    "        )\n",
    "        \n",
    "robust_classifiers = [RobustnessClassifierWrapper(model)]"
   ]
  },
  {
   "cell_type": "code",
   "execution_count": 10,
   "metadata": {},
   "outputs": [
    {
     "name": "stdout",
     "output_type": "stream",
     "text": [
      "mnist classifier: 23394 trainable parameters\n"
     ]
    }
   ],
   "source": [
    "class ModelZooClassifierWrapper(Trainer):\n",
    "    modelzoo_normalize_transform = torchvision.transforms.Normalize(\n",
    "        mean=[0.485, 0.456, 0.406], std=[0.229, 0.224, 0.225]\n",
    "    )\n",
    "\n",
    "    @staticmethod\n",
    "    def normalize_modelzoo(x):\n",
    "        # [-1, 1] -> [0, 1], then normalize\n",
    "        # https://pytorch.org/docs/stable/torchvision/models.html\n",
    "        return ModelZooClassifierWrapper.modelzoo_normalize_transform((x[0] + 1) / 2).unsqueeze(0)\n",
    "    \n",
    "    def __init__(self, model, side: int):\n",
    "        super().__init__(classifier_d, ds.get_train_loader, ds.get_test_loader, unit_type=0)\n",
    "        self.model = torch.nn.Sequential(\n",
    "            Resize(side),\n",
    "            Lambda(ModelZooClassifierWrapper.normalize_modelzoo),\n",
    "            model,\n",
    "        )\n",
    "\n",
    "nonrobust_classifiers = [#(models.squeezenet1_0, 256),   # error 41.90\n",
    "                         #(models.alexnet, 256),         # error 43.45\n",
    "                         #(models.resnet18, 224),        # error 30.24\n",
    "                         (models.resnext50_32x4d, 224)] # error 21.49\n",
    "nonrobust_classifiers = [ModelZooClassifierWrapper(Util.conditional_to_cuda(m(pretrained=True)), side)\n",
    "                         for m, side in nonrobust_classifiers]\n",
    "classifiers = nonrobust_classifiers + robust_classifiers"
   ]
  },
  {
   "cell_type": "code",
   "execution_count": 15,
   "metadata": {},
   "outputs": [],
   "source": [
    "def advgen_experiments(adversary: Adversary, noise_eps: float, total_images: int):\n",
    "    decay_factor = EpsDTransformer().eps_to_d(noise_eps)\n",
    "    advgen = AdversarialGenerator(None, classifiers, True, decay_factor)\n",
    "    advgen.set_generative_model(gm)\n",
    "    for label in np.random.choice(label_indices, size=total_images):\n",
    "        no_images = 1\n",
    "        LogUtil.info(f\"*** CLASS {label}: {ds.printed_classes[label]} ***\")\n",
    "        gm.configure_label(label)\n",
    "        advgen.generate(adversary, no_images, True, clear_stat=False)\n",
    "    LogUtil.info(\"*** STATISTICS ***\")\n",
    "    advgen.print_stats(True)"
   ]
  },
  {
   "cell_type": "markdown",
   "metadata": {},
   "source": [
    "### Quick demonstration how generative models and classifiers work\n",
    "\n",
    "* Show generated images for random classes"
   ]
  },
  {
   "cell_type": "code",
   "execution_count": null,
   "metadata": {},
   "outputs": [],
   "source": [
    "for label in np.random.choice(label_indices, size=3):\n",
    "    LogUtil.info(f\"*** CLASS {label}: {ds.printed_classes[label]} ***\")\n",
    "    gm.configure_label(label)\n",
    "    EvaluationUtil.show_generated_images(gm, 1, 8)"
   ]
  },
  {
   "cell_type": "markdown",
   "metadata": {},
   "source": [
    "### Measure latent adversarial accuracy (LGA)"
   ]
  },
  {
   "cell_type": "code",
   "execution_count": null,
   "metadata": {},
   "outputs": [],
   "source": [
    "advgen_experiments(NopAdversary(), noise_eps=1.0, total_images=100)"
   ]
  },
  {
   "cell_type": "markdown",
   "metadata": {},
   "source": [
    "### Measure latent adversarial generation severity (LAGS) by searching for minimum latent adversarial perturbations\n",
    "\n",
    "* Change the number of images to get more meaningful results\n",
    "* Metric reports are after each series of generated images\n",
    "* Latent generation accuracy (LGA) is also computed\n",
    "* Norms of minimum latent adversarial perturbations in the original space are also computed"
   ]
  },
  {
   "cell_type": "code",
   "execution_count": null,
   "metadata": {},
   "outputs": [],
   "source": [
    "max_rho, noise_eps = 2.5, 1.0\n",
    "adversary = PGDAdversary(max_rho, 50, 0.05, False, 0, verbose=0, n_repeat=12, repeat_mode=\"min\")\n",
    "advgen_experiments(adversary, noise_eps, total_images=100)"
   ]
  },
  {
   "cell_type": "markdown",
   "metadata": {},
   "source": [
    "### Measure latent adversarial generation accuracy (LAGA) by searching for bounded latent adversarial perturbations\n",
    "\n",
    "* Change the number of images to get more meaningful results\n",
    "* Metric reports are after each series of reconstructed/generated images\n",
    "* Latent generation accuracy (LGA) is also computed"
   ]
  },
  {
   "cell_type": "code",
   "execution_count": null,
   "metadata": {},
   "outputs": [],
   "source": [
    "rho, noise_eps = 0.1, 1.0\n",
    "adversary = PGDAdversary(rho, 50, 0.05, True, 0, verbose=0, n_repeat=12, repeat_mode=\"any\")\n",
    "advgen_experiments(adversary, noise_eps, total_images=100)"
   ]
  },
  {
   "cell_type": "code",
   "execution_count": null,
   "metadata": {},
   "outputs": [],
   "source": []
  }
 ],
 "metadata": {
  "kernelspec": {
   "display_name": "Python 3",
   "language": "python",
   "name": "python3"
  },
  "language_info": {
   "codemirror_mode": {
    "name": "ipython",
    "version": 3
   },
   "file_extension": ".py",
   "mimetype": "text/x-python",
   "name": "python",
   "nbconvert_exporter": "python",
   "pygments_lexer": "ipython3",
   "version": "3.7.6"
  }
 },
 "nbformat": 4,
 "nbformat_minor": 4
}
