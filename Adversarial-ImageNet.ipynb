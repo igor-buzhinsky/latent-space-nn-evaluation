{
 "cells": [
  {
   "cell_type": "markdown",
   "metadata": {},
   "source": [
    "### This notebook shows the core of the proposed framework: evaluation of ANN classifiers with latent space performance metrics"
   ]
  },
  {
   "cell_type": "code",
   "execution_count": null,
   "metadata": {},
   "outputs": [],
   "source": [
    "import numpy as np\n",
    "import torch\n",
    "import matplotlib.pyplot as plt\n",
    "%matplotlib inline\n",
    "%load_ext autoreload\n",
    "%autoreload 2"
   ]
  },
  {
   "cell_type": "code",
   "execution_count": null,
   "metadata": {},
   "outputs": [],
   "source": [
    "from latentspace.ml_util import *\n",
    "import latentspace.datasets as datasets\n",
    "import latentspace.generative as generative\n",
    "import latentspace.cnn as cnn\n",
    "from latentspace.adversarial_generation import *\n",
    "from latentspace.evaluation_util import EvaluationUtil"
   ]
  },
  {
   "cell_type": "markdown",
   "metadata": {},
   "source": [
    "### Load a dataset and classifiers"
   ]
  },
  {
   "cell_type": "code",
   "execution_count": null,
   "metadata": {},
   "outputs": [],
   "source": [
    "dataset_info = DatasetInfo.ImageNetAnimals\n",
    "no_classes = 3\n",
    "no_subclasses = 5\n",
    "ds = datasets.ImageNetAnimalsData()\n",
    "classifier_d = \"animals-128\"\n",
    "gm = generative.BigGAN(ds)\n",
    "class_proportions = np.repeat(1 / no_classes, no_classes)\n",
    "unit_type = 0\n",
    "    \n",
    "def load_classifier(prefix: str):\n",
    "    weights_filename = f\"classifiers_architecture{unit_type}/{prefix}_{dataset_info.name}.bin\"\n",
    "    c = cnn.Trainer(classifier_d, ds.get_train_loader, ds.get_test_loader, unit_type=unit_type)\n",
    "    c.restore_params_from_disk(weights_filename)\n",
    "    return c\n",
    "\n",
    "nonrobust_classifier = load_classifier(\"plain\")\n",
    "robust_classifier    = load_classifier(\"robust\")\n",
    "classifiers = [nonrobust_classifier, robust_classifier]\n",
    "\n",
    "def advgen_experiments(adversary: Adversary, noise_eps: float, total_no_images: int):\n",
    "    decay_factor = EpsDTransformer().eps_to_d(noise_eps)\n",
    "    advgen = AdversarialGenerator(None, classifiers, True, decay_factor)\n",
    "    advgen.set_generative_model(gm)\n",
    "    no_images = np.round(class_proportions * total_no_images)\n",
    "    for i in range(no_classes):\n",
    "        for subclass_index in range(no_subclasses):\n",
    "            LogUtil.info(f\"*** {classifier_d.upper()}, CLASS {i}, SUBCLASS {subclass_index} ***\")\n",
    "            LogUtil.info(f\"noise_epsilon = {noise_eps:.5f}, decay_factor = {decay_factor:.5f}\")\n",
    "            gm.configure_class(i, subclass_index)\n",
    "            advgen.generate(adversary, int(no_images[i]), True, clear_stat=(i == 0))\n",
    "    LogUtil.info(\"*** STATISTICS ***\")\n",
    "    advgen.print_stats(True)"
   ]
  },
  {
   "cell_type": "markdown",
   "metadata": {},
   "source": [
    "### Quick demonstration how generative models and classifiers work\n",
    "\n",
    "* For each class, show image reconstructions (as pairs original - reconstructed) and generated images"
   ]
  },
  {
   "cell_type": "code",
   "execution_count": null,
   "metadata": {},
   "outputs": [],
   "source": [
    "for i in range(no_classes):\n",
    "    for subclass_index in range(no_subclasses):\n",
    "        LogUtil.info(f\"*** {classifier_d.upper()}, CLASS {i}, SUBCLASS {subclass_index} ***\")\n",
    "        gm.configure_class(i, subclass_index)\n",
    "        EvaluationUtil.show_generated_images(gm, 1, 8)"
   ]
  },
  {
   "cell_type": "markdown",
   "metadata": {},
   "source": [
    "### Measure local latent noise accuracy (LLNA)\n",
    "\n",
    "* Also show noise-based perturbations if requested\n",
    "* Change the numbers of images to get more meaningful results"
   ]
  },
  {
   "cell_type": "code",
   "execution_count": null,
   "metadata": {},
   "outputs": [],
   "source": [
    "no_images = 1\n",
    "no_perturbations_per_image = 1\n",
    "visualize = True\n",
    "for i in range(no_classes):\n",
    "    for subclass_index in range(no_subclasses):\n",
    "        LogUtil.info(f\"*** {classifier_d.upper()}, CLASS {i}, SUBCLASS {subclass_index} ***\")\n",
    "        gm.configure_class(i, subclass_index)\n",
    "        RandomPerturbationStatistician(gm, classifiers, no_images, no_perturbations_per_image,\n",
    "                                       visualize, np.linspace(0.25, 1.00, 4)).process()"
   ]
  },
  {
   "cell_type": "markdown",
   "metadata": {},
   "source": [
    "### Measure latent adversarial generation severity (LAGS) by searching for minimum latent adversarial perturbations\n",
    "\n",
    "* Change the number of images to get more meaningful results\n",
    "* Metric reports are after each series of reconstructed/generated images\n",
    "* Latent generation accuracy (LGA) is also computed\n",
    "* Norms of minimum latent adversarial perturbations in the original space are also computed"
   ]
  },
  {
   "cell_type": "code",
   "execution_count": null,
   "metadata": {},
   "outputs": [],
   "source": [
    "total_images = 10\n",
    "max_rho, noise_eps = 2.5, 1.0\n",
    "adversary = PGDAdversary(max_rho, 50, 0.05, False, 0, verbose=0)   \n",
    "advgen_experiments(adversary, noise_eps, total_images)"
   ]
  },
  {
   "cell_type": "markdown",
   "metadata": {},
   "source": [
    "### Measure latent adversarial generation accuracy (LAGA) by searching for bounded latent adversarial perturbations\n",
    "\n",
    "* Change the number of images to get more meaningful results\n",
    "* Metric reports are after each series of reconstructed/generated images\n",
    "* Latent generation accuracy (LGA) is also computed"
   ]
  },
  {
   "cell_type": "code",
   "execution_count": null,
   "metadata": {},
   "outputs": [],
   "source": [
    "total_images = 10\n",
    "rho, noise_eps = 0.3, 1.0\n",
    "# search with restarts (a sequence of restarts will terminate if an adversarial perturbation is found)\n",
    "adversary = PGDAdversary(rho, 50, 0.05, True, 0, verbose=0, n_repeat=12, repeat_mode=\"any\")\n",
    "advgen_experiments(adversary, noise_eps, total_images)"
   ]
  },
  {
   "cell_type": "code",
   "execution_count": null,
   "metadata": {},
   "outputs": [],
   "source": []
  }
 ],
 "metadata": {
  "kernelspec": {
   "display_name": "Python 3",
   "language": "python",
   "name": "python3"
  },
  "language_info": {
   "codemirror_mode": {
    "name": "ipython",
    "version": 3
   },
   "file_extension": ".py",
   "mimetype": "text/x-python",
   "name": "python",
   "nbconvert_exporter": "python",
   "pygments_lexer": "ipython3",
   "version": "3.7.6"
  }
 },
 "nbformat": 4,
 "nbformat_minor": 4
}
