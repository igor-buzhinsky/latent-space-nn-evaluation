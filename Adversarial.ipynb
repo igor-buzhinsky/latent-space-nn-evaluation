{
 "cells": [
  {
   "cell_type": "code",
   "execution_count": null,
   "metadata": {},
   "outputs": [],
   "source": [
    "import numpy as np\n",
    "import torch\n",
    "import matplotlib.pyplot as plt\n",
    "%matplotlib inline\n",
    "from importlib import reload\n",
    "\n",
    "# reload from external changes\n",
    "\n",
    "import ml_util\n",
    "ml_util = reload(ml_util)\n",
    "from ml_util import *\n",
    "\n",
    "import datasets\n",
    "datasets = reload(datasets)\n",
    "\n",
    "import generative\n",
    "generative = reload(generative)\n",
    "\n",
    "import cnn\n",
    "cnn = reload(cnn)\n",
    "\n",
    "import adversarial_generation\n",
    "adversarial_generation = reload(adversarial_generation)\n",
    "from adversarial_generation import *\n",
    "\n",
    "import evaluation_util\n",
    "evaluation_util = reload(evaluation_util)\n",
    "from evaluation_util import EvaluationUtil\n",
    "\n",
    "Util.configure(5000)"
   ]
  },
  {
   "cell_type": "markdown",
   "metadata": {},
   "source": [
    "### Load a dataset and classifiers"
   ]
  },
  {
   "cell_type": "code",
   "execution_count": 2,
   "metadata": {},
   "outputs": [
    {
     "name": "stdout",
     "output_type": "stream",
     "text": [
      "Files already downloaded and verified\n",
      "Files already downloaded and verified\n",
      "Files already downloaded and verified\n",
      "celeba-128 classifier: 300138 trainable parameters\n",
      "celeba-128 classifier: 300138 trainable parameters\n"
     ]
    }
   ],
   "source": [
    "#dataset_info = DatasetInfo.MNIST\n",
    "dataset_info = DatasetInfo.CelebA128Gender\n",
    "#dataset_info = DatasetInfo.LSUN128\n",
    "\n",
    "class_proportions = None\n",
    "if dataset_info in [DatasetInfo.CelebA128Gender, DatasetInfo.LSUN128]:\n",
    "    no_classes = 2\n",
    "    if dataset_info == DatasetInfo.CelebA128Gender:\n",
    "        ds = datasets.CelebAData(20)\n",
    "        classifier_d = \"celeba-128\"\n",
    "        class_proportions = np.array([0.583, 0.417])\n",
    "    elif dataset_info == DatasetInfo.LSUN128:\n",
    "        ds = datasets.LSUNData()\n",
    "        classifier_d = \"lsun-128\"\n",
    "    gm_loader = lambda label: generative.PIONEER(dataset_info, label, ds, spectral_norm_warming_no_images=25)\n",
    "elif dataset_info == DatasetInfo.MNIST:\n",
    "    no_classes = 10\n",
    "    ds = datasets.MNISTData()\n",
    "    classifier_d = \"mnist\"\n",
    "    gm_loader = lambda label: generative.WGAN(dataset_info, label, ds)\n",
    "else:\n",
    "    raise RuntimeError()\n",
    "if class_proportions is None:\n",
    "    class_proportions = np.repeat(1 / no_classes, no_classes)\n",
    "    \n",
    "def load_classifier(weights_filename: str):\n",
    "    c = cnn.Trainer(classifier_d, ds.get_train_loader, ds.get_test_loader)\n",
    "    c.restore_params_from_disk(weights_filename)\n",
    "    return c\n",
    "\n",
    "nonrobust_classifier = load_classifier(f\"new_classifiers/plain_{dataset_info.name}.bin\")\n",
    "robust_classifier = load_classifier(f\"new_classifiers/robust_{dataset_info.name}.bin\")\n",
    "classifiers = [nonrobust_classifier, robust_classifier]\n",
    "\n",
    "def advgen_experiments(adversary: Adversary, noise_eps: float, total_no_images: int):\n",
    "    decay_factor = EpsDTransformer().eps_to_d(noise_eps)\n",
    "    for use_generated_images in [False, True]:\n",
    "        advgen = AdversarialGenerator(None, classifiers, use_generated_images, decay_factor)\n",
    "        no_images = np.round(class_proportions * total_no_images)\n",
    "        for i in range(no_classes):\n",
    "            LogUtil.info(f\"*** {classifier_d.upper()}, CLASS {i}, \"\n",
    "                         f\"{'GENERATED' if use_generated_images else 'RECONSTRUCTED'} ***\")\n",
    "            LogUtil.info(f\"noise_epsilon = {noise_eps:.5f}, decay_factor = {decay_factor:.5f}\")\n",
    "            gm = gm_loader(i)\n",
    "            advgen.set_generative_model(gm)\n",
    "            advgen.generate(adversary, int(no_images[i]), True, clear_stat=(i == 0))\n",
    "            gm.destroy()\n",
    "        LogUtil.info(\"*** STATISTICS ***\")\n",
    "        advgen.print_stats(True)"
   ]
  },
  {
   "cell_type": "code",
   "execution_count": null,
   "metadata": {},
   "outputs": [],
   "source": [
    "for i in range(no_classes):\n",
    "    LogUtil.info(f\"*** {classifier_d.upper()}, CLASS {i} ***\")\n",
    "    gm = gm_loader(i)\n",
    "    EvaluationUtil.show_reconstructed_images(gm, 1, 5)\n",
    "    EvaluationUtil.show_generated_images(gm, 1, 10)\n",
    "    # add perturbations and see classification outcomes + calculate classification accuracy\n",
    "    RandomPerturbationStatistician(gm, classifiers, 1, 1, True, np.linspace(0.25, 1.00, 4)).process()\n",
    "    # produce \"class mean\" vector\n",
    "    advgen = AdversarialGenerator(gm, classifiers, True, 1.0)\n",
    "    advgen.generate(PGDAdversary(0.01, 1, 0.1, False, 0, verbose=0), 1, 1, False)\n",
    "    gm.destroy()"
   ]
  },
  {
   "cell_type": "markdown",
   "metadata": {},
   "source": [
    "### Measure resistance to noise"
   ]
  },
  {
   "cell_type": "code",
   "execution_count": null,
   "metadata": {},
   "outputs": [],
   "source": [
    "for i in range(no_classes):\n",
    "    LogUtil.info(f\"*** {classifier_d.upper()}, CLASS {i} ***\")\n",
    "    gm = gm_loader(i)\n",
    "    RandomPerturbationStatistician(gm, classifiers, 3, 200, True, np.linspace(0.25, 1.00, 4)).process()\n",
    "    gm.destroy()"
   ]
  },
  {
   "cell_type": "markdown",
   "metadata": {},
   "source": [
    "### Find latent adversarial perturbations"
   ]
  },
  {
   "cell_type": "code",
   "execution_count": null,
   "metadata": {},
   "outputs": [],
   "source": [
    "# search of minimum adversarial perturbations\n",
    "max_rho, noise_eps = 2.5, 1.0\n",
    "if dataset_info == DatasetInfo.MNIST:\n",
    "    adversary = PGDAdversary(max_rho, 50, 0.05, True, 0, verbose=0, n_repeat=12, repeat_mode=\"min\")\n",
    "else:\n",
    "    adversary = PGDAdversary(max_rho, 1250, 0.002, False, 0, verbose=0)\n",
    "advgen_experiments(adversary, noise_eps, 10)"
   ]
  },
  {
   "cell_type": "code",
   "execution_count": null,
   "metadata": {},
   "outputs": [],
   "source": []
  }
 ],
 "metadata": {
  "kernelspec": {
   "display_name": "Adversarial",
   "language": "python",
   "name": "adversarial"
  },
  "language_info": {
   "codemirror_mode": {
    "name": "ipython",
    "version": 3
   },
   "file_extension": ".py",
   "mimetype": "text/x-python",
   "name": "python",
   "nbconvert_exporter": "python",
   "pygments_lexer": "ipython3",
   "version": "3.6.8"
  }
 },
 "nbformat": 4,
 "nbformat_minor": 4
}
